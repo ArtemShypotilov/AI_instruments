{
  "metadata": {
    "language_info": {
      "codemirror_mode": {
        "name": "python",
        "version": 3
      },
      "file_extension": ".py",
      "mimetype": "text/x-python",
      "name": "python",
      "nbconvert_exporter": "python",
      "pygments_lexer": "ipython3",
      "version": "3.8"
    },
    "kernelspec": {
      "name": "python",
      "display_name": "Python (Pyodide)",
      "language": "python"
    }
  },
  "nbformat_minor": 4,
  "nbformat": 4,
  "cells": [
    {
      "cell_type": "markdown",
      "source": "1. Написати функцію з одним аргументом, яка перевіряє чи є аргумент числом. Якщо так, то повертає чи є це цисло парним чи не парним. \nЯкщо аргумент не число - повертає пусту строку.",
      "metadata": {}
    },
    {
      "cell_type": "code",
      "source": "def odd_or_even(num):\n    if(type(num) == int):\n        if (num%2==0):\n            return \"even\"\n        else:\n            return \"odd\"\n    return \"\"\n\nodd_or_even(9)\n        \n    ",
      "metadata": {
        "trusted": true
      },
      "execution_count": 5,
      "outputs": [
        {
          "execution_count": 5,
          "output_type": "execute_result",
          "data": {
            "text/plain": "'odd'"
          },
          "metadata": {}
        }
      ]
    },
    {
      "cell_type": "code",
      "source": "2. Написати функцію, яка починає перебирати числа від 1 до нескінченності і перевіряє чи є число простим (просте число - те яке ділиться лише на 1 чи само на себе). \nЯкщо просте число знайдене - воно додається до списку. \nПісля пʼятого знайденого простого числа функція повинна повернути суму всіх пʼяти простих чисел у списку.",
      "metadata": {},
      "execution_count": null,
      "outputs": []
    },
    {
      "cell_type": "code",
      "source": "\nimport math\n\ndef is_prime(n):\n  for i in range(2,int(math.sqrt(n))+1):\n    if (n%i) == 0:\n      return False\n  return True\n\ndef gen_num():\n    num=1\n    while True:\n        yield num\n        num+=1\n\ndef get_5_primes_sum():\n    found_cnt=0\n    numbers = []\n    gen = gen_num()\n    while(found_cnt<=5):\n        number = next(gen)\n        if is_prime(number):\n            numbers.append(number)\n            found_cnt+=1\n    return sum(numbers)\n\nget_5_primes_sum()\n\n",
      "metadata": {
        "trusted": true
      },
      "execution_count": 6,
      "outputs": [
        {
          "execution_count": 6,
          "output_type": "execute_result",
          "data": {
            "text/plain": "29"
          },
          "metadata": {}
        }
      ]
    },
    {
      "cell_type": "code",
      "source": "3. Написати функцію з одним аргументом n, що є числом. Функція повинна повернути суму наступного ряду з n чисел 1 + 11 + 111 + 1111 + ...., де кожний елемент - число з постійно зростаючою кількістю одиниць.\nНаприклад:\nВи передаєте в функцію фргумент 5.\nФункція рахує сумму для ряду виду: 1 + 11 + 111 + 1111 + 11111.\nВ даному прикладі вона повинна повернути число 12345",
      "metadata": {},
      "execution_count": null,
      "outputs": []
    },
    {
      "cell_type": "code",
      "source": "def row_sums(n):\n    str_num = \"1\"\n    sum_of_nums = 0\n    for i in range(n):\n        sum_of_nums += int(str_num)\n        str_num +=str_num\n    return sum_of_nums\n\nrow_sums(1)\n        ",
      "metadata": {
        "trusted": true
      },
      "execution_count": 10,
      "outputs": [
        {
          "execution_count": 10,
          "output_type": "execute_result",
          "data": {
            "text/plain": "1"
          },
          "metadata": {}
        }
      ]
    },
    {
      "cell_type": "code",
      "source": "",
      "metadata": {},
      "execution_count": null,
      "outputs": []
    }
  ]
}